{
  "nbformat": 4,
  "nbformat_minor": 0,
  "metadata": {
    "colab": {
      "provenance": []
    },
    "kernelspec": {
      "name": "ir",
      "display_name": "R"
    },
    "language_info": {
      "name": "R"
    }
  },
  "cells": [
    {
      "cell_type": "code",
      "source": [
        "# installing the igraph package\n",
        "install.packages(\"igraph\")\n",
        "\n",
        "# Loading the library\n",
        "library(igraph)"
      ],
      "metadata": {
        "id": "HOdLGKEfU_eE",
        "colab": {
          "base_uri": "https://localhost:8080/"
        },
        "outputId": "51034f31-49e7-4c14-cb89-80a6b1be3ef0"
      },
      "execution_count": 1,
      "outputs": [
        {
          "output_type": "stream",
          "name": "stderr",
          "text": [
            "Installing package into ‘/usr/local/lib/R/site-library’\n",
            "(as ‘lib’ is unspecified)\n",
            "\n",
            "\n",
            "Attaching package: ‘igraph’\n",
            "\n",
            "\n",
            "The following objects are masked from ‘package:stats’:\n",
            "\n",
            "    decompose, spectrum\n",
            "\n",
            "\n",
            "The following object is masked from ‘package:base’:\n",
            "\n",
            "    union\n",
            "\n",
            "\n"
          ]
        }
      ]
    },
    {
      "cell_type": "code",
      "source": [
        "# Loading the list of packages and creating a Data Frame\n",
        "nodes <- read.csv(\"/content/vertices.csv\", header = TRUE)\n",
        "\n",
        "# Loading the relationship between packages and creating a Data Frame\n",
        "edges <- read.csv(\"/content/edges.csv\", header = TRUE)"
      ],
      "metadata": {
        "id": "CzL5BIPbVCH0"
      },
      "execution_count": 2,
      "outputs": []
    },
    {
      "cell_type": "code",
      "source": [
        "# Creating a directed graph using the nodes and edges\n",
        "graph <- graph_from_data_frame(edges, vertices = nodes, directed = TRUE)"
      ],
      "metadata": {
        "id": "u-MmVVZiVFth"
      },
      "execution_count": 3,
      "outputs": []
    },
    {
      "cell_type": "code",
      "execution_count": 4,
      "metadata": {
        "colab": {
          "base_uri": "https://localhost:8080/",
          "height": 34
        },
        "id": "BJIz-LtJUSvB",
        "outputId": "03ccc0f2-fc41-47b2-fe93-6c59ce2dc598"
      },
      "outputs": [
        {
          "output_type": "display_data",
          "data": {
            "text/html": [
              "<strong>png:</strong> 2"
            ],
            "text/markdown": "**png:** 2",
            "text/latex": "\\textbf{png:} 2",
            "text/plain": [
              "png \n",
              "  2 "
            ]
          },
          "metadata": {}
        }
      ],
      "source": [
        "# Plotting the graph\n",
        "png(\"/content/rplot.png\", width = 4320, height = 4320)\n",
        "\n",
        "plot(graph,\n",
        "     vertex.color = \"Lightblue\",\n",
        "     vertex.size = 1, # Adjust the vertex size\n",
        "     vertex.label = NA, # Remove labels\n",
        "     edge.width = 0.1, # Adjust the edge width\n",
        "     edge.arrow.size = 0.1, # Adjust the arrow size\n",
        "     layout = layout_on_sphere(graph) # Adding layout to make the graph clearer\n",
        ")\n",
        "\n",
        "dev.off()"
      ]
    },
    {
      "cell_type": "code",
      "source": [
        "# Loading the list of top packages and creating a Data Frame\n",
        "top_nodes <- read.csv(\"/content/top_vertices.csv\", header = TRUE)\n",
        "\n",
        "# Loading the relationship between top packages and creating a Data Frame\n",
        "top_edges <- read.csv(\"/content/top_edges.csv\", header = TRUE)\n",
        "\n",
        "# Creating a directed graph using the top nodes and top edges\n",
        "top_graph <- graph_from_data_frame(top_edges, vertices = top_nodes, directed = TRUE)\n",
        "\n",
        "# Plotting the graph\n",
        "png(\"/content/rplot_top.png\", width = 2160, height = 2160)\n",
        "\n",
        "plot(top_graph,\n",
        "     vertex.color = \"Lightblue\",\n",
        "     vertex.size = 4, # Adjust the vertex size\n",
        "     vertex.label = NA, # Remove labels\n",
        "     edge.width = 1, # Adjust the edge width\n",
        "     edge.arrow.size = 1, # Adjust the arrow size\n",
        "     layout = layout_on_sphere(top_graph) # Adding layout to make the graph clearer\n",
        ")\n",
        "\n",
        "dev.off()"
      ],
      "metadata": {
        "colab": {
          "base_uri": "https://localhost:8080/",
          "height": 34
        },
        "id": "rsdrrCnDydmG",
        "outputId": "01577352-35d6-4f35-a3bf-259c6fae2cdf"
      },
      "execution_count": null,
      "outputs": [
        {
          "output_type": "display_data",
          "data": {
            "text/html": [
              "<strong>png:</strong> 2"
            ],
            "text/markdown": "**png:** 2",
            "text/latex": "\\textbf{png:} 2",
            "text/plain": [
              "png \n",
              "  2 "
            ]
          },
          "metadata": {}
        }
      ]
    },
    {
      "cell_type": "code",
      "source": [
        "# Printing the Number of Nodes\n",
        "cat(\"Number of Nodes: \", vcount(graph), \"\\n\")\n",
        "\n",
        "# Printing the Number of Edges\n",
        "cat(\"Number of Edges: \", ecount(graph), \"\\n\")"
      ],
      "metadata": {
        "colab": {
          "base_uri": "https://localhost:8080/"
        },
        "id": "VlxZPTxYVLjp",
        "outputId": "f207477c-ab88-474a-e83c-f86c4a778204"
      },
      "execution_count": 4,
      "outputs": [
        {
          "output_type": "stream",
          "name": "stdout",
          "text": [
            "Number of Nodes:  12050 \n",
            "Number of Edges:  102279 \n"
          ]
        }
      ]
    },
    {
      "cell_type": "code",
      "source": [
        "# Calculating the density of the graph\n",
        "edge_density(graph)"
      ],
      "metadata": {
        "colab": {
          "base_uri": "https://localhost:8080/",
          "height": 34
        },
        "id": "R4q0Yq5hPArL",
        "outputId": "1218c5d0-a354-459a-a4ce-22bdea7eeea0"
      },
      "execution_count": null,
      "outputs": [
        {
          "output_type": "display_data",
          "data": {
            "text/html": [
              "0.000704447158886828"
            ],
            "text/markdown": "0.000704447158886828",
            "text/latex": "0.000704447158886828",
            "text/plain": [
              "[1] 0.0007044472"
            ]
          },
          "metadata": {}
        }
      ]
    },
    {
      "cell_type": "code",
      "source": [
        "# Calculating the in-degrees of the graph\n",
        "deg.in <- degree(graph, mode = 'in')\n",
        "nodes$deg.in <- deg.in\n",
        "print(head(nodes[order(nodes$deg.in, decreasing = TRUE),],10))"
      ],
      "metadata": {
        "colab": {
          "base_uri": "https://localhost:8080/"
        },
        "id": "5-WYL-WUZD93",
        "outputId": "0a3f7294-027f-40ce-a0a6-48b6fb5b8f2a"
      },
      "execution_count": 5,
      "outputs": [
        {
          "output_type": "stream",
          "name": "stdout",
          "text": [
            "        packages deg.in\n",
            "8356       mocha   3588\n",
            "9406      eslint   2845\n",
            "11336 typescript   1720\n",
            "1126    prettier   1468\n",
            "5963        tape   1313\n",
            "7024        chai   1262\n",
            "9952         nyc   1043\n",
            "694       rimraf    978\n",
            "6570          xo    845\n",
            "521         jest    784\n"
          ]
        }
      ]
    },
    {
      "cell_type": "code",
      "source": [
        "# Calculating the mean in-degree of the graph\n",
        "mean(deg.in)"
      ],
      "metadata": {
        "colab": {
          "base_uri": "https://localhost:8080/",
          "height": 34
        },
        "id": "9d-csrFNZXYA",
        "outputId": "bf1b84ee-53cf-44bd-fa54-0764cf4af00d"
      },
      "execution_count": null,
      "outputs": [
        {
          "output_type": "display_data",
          "data": {
            "text/html": [
              "8.48788381742739"
            ],
            "text/markdown": "8.48788381742739",
            "text/latex": "8.48788381742739",
            "text/plain": [
              "[1] 8.487884"
            ]
          },
          "metadata": {}
        }
      ]
    },
    {
      "cell_type": "code",
      "source": [
        "# Calculating the standard deviation of the in-degrees\n",
        "sd(deg.in)"
      ],
      "metadata": {
        "colab": {
          "base_uri": "https://localhost:8080/",
          "height": 34
        },
        "id": "gg_WmSlVblcQ",
        "outputId": "e740f6a9-99d6-4826-f75d-3d1adf44093a"
      },
      "execution_count": null,
      "outputs": [
        {
          "output_type": "display_data",
          "data": {
            "text/html": [
              "60.6697895621092"
            ],
            "text/markdown": "60.6697895621092",
            "text/latex": "60.6697895621092",
            "text/plain": [
              "[1] 60.66979"
            ]
          },
          "metadata": {}
        }
      ]
    },
    {
      "cell_type": "code",
      "source": [
        "# Plotting a histogram of the in-degrees\n",
        "png('in-degree_hist.png', width = 480, height = 480)\n",
        "hist(\n",
        "  deg.in,\n",
        "  xlab = \"In-Degree\",\n",
        "  ylab = \"Distribution\",\n",
        "  main = \"\",\n",
        "  col = \"lightblue\",\n",
        ")\n",
        "dev.off()"
      ],
      "metadata": {
        "colab": {
          "base_uri": "https://localhost:8080/",
          "height": 34
        },
        "id": "3nNts66RZt-N",
        "outputId": "c72eab3d-a1e2-4a5d-c8a0-05d60e4eb92b"
      },
      "execution_count": 6,
      "outputs": [
        {
          "output_type": "display_data",
          "data": {
            "text/html": [
              "<strong>png:</strong> 2"
            ],
            "text/markdown": "**png:** 2",
            "text/latex": "\\textbf{png:} 2",
            "text/plain": [
              "png \n",
              "  2 "
            ]
          },
          "metadata": {}
        }
      ]
    },
    {
      "cell_type": "code",
      "source": [
        "# Fit a power-law model using igraph's plfit function\n",
        "pl_fit <- power.law.fit(nodes$deg.in)\n",
        "print(pl_fit)"
      ],
      "metadata": {
        "colab": {
          "base_uri": "https://localhost:8080/"
        },
        "id": "IuoF_tTiXO0O",
        "outputId": "36f04bc6-374d-4d6d-9afc-79733a12c49b"
      },
      "execution_count": null,
      "outputs": [
        {
          "output_type": "stream",
          "name": "stdout",
          "text": [
            "$continuous\n",
            "[1] FALSE\n",
            "\n",
            "$alpha\n",
            "[1] 1.891324\n",
            "\n",
            "$xmin\n",
            "[1] 3\n",
            "\n",
            "$logLik\n",
            "[1] -13398.35\n",
            "\n",
            "$KS.stat\n",
            "[1] 0.01260073\n",
            "\n",
            "$KS.p\n",
            "[1] 0.5144118\n",
            "\n"
          ]
        }
      ]
    },
    {
      "cell_type": "code",
      "source": [
        "# Calculating the out-degrees of the graph\n",
        "deg.out <- degree(graph, mode = 'out')\n",
        "nodes$deg.out <- deg.out\n",
        "print(head(nodes[order(nodes$deg.out, decreasing = TRUE),],10))"
      ],
      "metadata": {
        "colab": {
          "base_uri": "https://localhost:8080/"
        },
        "id": "rtgKN9FvW-8Y",
        "outputId": "b1e5582e-c59e-4695-e33d-aff3ae31cca0"
      },
      "execution_count": 7,
      "outputs": [
        {
          "output_type": "stream",
          "name": "stdout",
          "text": [
            "                  packages deg.in deg.out\n",
            "10580             testcafe      9     138\n",
            "7061                  antd     13     137\n",
            "3832             ember-cli    131     114\n",
            "10531 ember-cli-addon-docs      3     103\n",
            "8356                 mocha   3588      92\n",
            "8248                  next      4      91\n",
            "5112             prettierx      2      89\n",
            "5912              rc-tools     10      89\n",
            "8877       postcss-cssnext      2      89\n",
            "4667        parcel-bundler      3      87\n"
          ]
        }
      ]
    },
    {
      "cell_type": "code",
      "source": [
        "# Calculating the mean out-degree of the graph\n",
        "mean(deg.out)"
      ],
      "metadata": {
        "colab": {
          "base_uri": "https://localhost:8080/",
          "height": 34
        },
        "id": "cDS6I2IGZIRn",
        "outputId": "068da01a-9d64-4ff8-e50a-6c1e39347025"
      },
      "execution_count": null,
      "outputs": [
        {
          "output_type": "display_data",
          "data": {
            "text/html": [
              "8.48788381742739"
            ],
            "text/markdown": "8.48788381742739",
            "text/latex": "8.48788381742739",
            "text/plain": [
              "[1] 8.487884"
            ]
          },
          "metadata": {}
        }
      ]
    },
    {
      "cell_type": "code",
      "source": [
        "# Calculating the standard deviation of the in-degrees\n",
        "sd(deg.out)"
      ],
      "metadata": {
        "colab": {
          "base_uri": "https://localhost:8080/",
          "height": 34
        },
        "id": "JwrK-_ppbhqL",
        "outputId": "62540c9d-e78c-4496-ed3d-8bdfbfd68e7c"
      },
      "execution_count": null,
      "outputs": [
        {
          "output_type": "display_data",
          "data": {
            "text/html": [
              "9.86832863022572"
            ],
            "text/markdown": "9.86832863022572",
            "text/latex": "9.86832863022572",
            "text/plain": [
              "[1] 9.868329"
            ]
          },
          "metadata": {}
        }
      ]
    },
    {
      "cell_type": "code",
      "source": [
        "# Plotting a histogram of the out-degrees\n",
        "png('out-degree_hist.png', width = 480, height = 480)\n",
        "hist(\n",
        "  deg.out,\n",
        "  xlab = \"Out-Degree\",\n",
        "  ylab = \"Distribution\",\n",
        "  main = \"\",\n",
        "  col = \"lightblue\",\n",
        "  ylim = c(0,10000)\n",
        ")\n",
        "dev.off()"
      ],
      "metadata": {
        "colab": {
          "base_uri": "https://localhost:8080/",
          "height": 34
        },
        "id": "WwYz5wrba26J",
        "outputId": "aa7ed9f9-e30a-464f-82f7-f648876bdfdd"
      },
      "execution_count": 8,
      "outputs": [
        {
          "output_type": "display_data",
          "data": {
            "text/html": [
              "<strong>png:</strong> 2"
            ],
            "text/markdown": "**png:** 2",
            "text/latex": "\\textbf{png:} 2",
            "text/plain": [
              "png \n",
              "  2 "
            ]
          },
          "metadata": {}
        }
      ]
    },
    {
      "cell_type": "code",
      "source": [
        "# Fit a power-law model using igraph's plfit function\n",
        "pl_fit <- power.law.fit(nodes$deg.out)\n",
        "print(pl_fit)"
      ],
      "metadata": {
        "colab": {
          "base_uri": "https://localhost:8080/"
        },
        "id": "vBZ5k34ifwCk",
        "outputId": "3aa3bda8-3467-4ff0-e113-2357d4921c20"
      },
      "execution_count": null,
      "outputs": [
        {
          "output_type": "stream",
          "name": "stdout",
          "text": [
            "$continuous\n",
            "[1] FALSE\n",
            "\n",
            "$alpha\n",
            "[1] 3.578268\n",
            "\n",
            "$xmin\n",
            "[1] 22\n",
            "\n",
            "$logLik\n",
            "[1] -3481.865\n",
            "\n",
            "$KS.stat\n",
            "[1] 0.04760682\n",
            "\n",
            "$KS.p\n",
            "[1] 0.0222946\n",
            "\n"
          ]
        }
      ]
    },
    {
      "cell_type": "code",
      "source": [
        "# Plotting a scatter plot of the in-degrees and out-degrees\n",
        "plot(\n",
        "  deg.in,\n",
        "  deg.out,\n",
        "  main = \"Scatter plot of In-Degrees and Out-Degrees\", # Adding a title for the plot\n",
        "  xlab = \"In-Degree\", # Adding a label for x\n",
        "  ylab = \"Out-Degree\", # Adding a label for y\n",
        "  pch = 19,\n",
        "  col = \"red\" # Adjusting the color of the points\n",
        ")\n",
        "\n",
        "\n",
        "# Add fit lines\n",
        "lines(lowess(deg.in, deg.out), col = \"blue\") # lowess line (x,y)"
      ],
      "metadata": {
        "colab": {
          "base_uri": "https://localhost:8080/",
          "height": 437
        },
        "id": "8urnynfdbF67",
        "outputId": "b216cd05-6458-41ea-edf0-d25f90fe99af"
      },
      "execution_count": null,
      "outputs": [
        {
          "output_type": "display_data",
          "data": {
            "text/plain": [
              "Plot with title “Scatter plot of In-Degrees and Out-Degrees”"
            ],
            "image/png": "[encoded data removed]"
          },
          "metadata": {
            "image/png": {
              "width": 420,
              "height": 420
            }
          }
        }
      ]
    },
    {
      "cell_type": "code",
      "source": [
        "# Xalculating the correlation of the in-degrees and out-degrees\n",
        "cor(deg.in, deg.out)"
      ],
      "metadata": {
        "colab": {
          "base_uri": "https://localhost:8080/",
          "height": 34
        },
        "id": "TT9jumX4chFu",
        "outputId": "f02995aa-8edb-465e-aa92-1ba98bcce357"
      },
      "execution_count": null,
      "outputs": [
        {
          "output_type": "display_data",
          "data": {
            "text/html": [
              "0.142555328575778"
            ],
            "text/markdown": "0.142555328575778",
            "text/latex": "0.142555328575778",
            "text/plain": [
              "[1] 0.1425553"
            ]
          },
          "metadata": {}
        }
      ]
    },
    {
      "cell_type": "code",
      "source": [
        "# Calculating the closeness centrality of the nodes\n",
        "nodes$closeness <- harmonic_centrality(graph, mode = \"out\", normalized = TRUE)\n",
        "print(head(nodes[order(nodes$closeness, decreasing = TRUE),], 10))"
      ],
      "metadata": {
        "colab": {
          "base_uri": "https://localhost:8080/"
        },
        "id": "ztC6uvEHu00c",
        "outputId": "0f0f9f9b-2888-4d83-f0bb-cea5e0944cb6"
      },
      "execution_count": null,
      "outputs": [
        {
          "output_type": "stream",
          "name": "stdout",
          "text": [
            "                          packages deg.in deg.out closeness\n",
            "7061                          antd     13     137 0.2293254\n",
            "10531         ember-cli-addon-docs      3     103 0.2229769\n",
            "11686                     anyproxy      1      78 0.2214610\n",
            "5912                      rc-tools     10      89 0.2152912\n",
            "5577  mochawesome-report-generator      3      81 0.2144861\n",
            "8356                         mocha   3588      92 0.2143849\n",
            "194           sassdoc-theme-herman      2      72 0.2140116\n",
            "9664                          dumi     40      72 0.2132877\n",
            "5521                 react-toolbox      1      64 0.2125080\n",
            "3832                     ember-cli    131     114 0.2124296\n"
          ]
        }
      ]
    },
    {
      "cell_type": "code",
      "source": [
        "# Calculating the closeness-centrality of the reversed graph\n",
        "nodes$reversed.closeness <- harmonic_centrality(graph, mode = \"in\", normalized = TRUE)\n",
        "print(head(nodes[order(nodes$reversed.closeness, decreasing = TRUE),], 10))"
      ],
      "metadata": {
        "colab": {
          "base_uri": "https://localhost:8080/"
        },
        "id": "3-8JJiIXwvnD",
        "outputId": "bbf5a99a-ea42-43ef-f113-39649ad01ee7"
      },
      "execution_count": null,
      "outputs": [
        {
          "output_type": "stream",
          "name": "stdout",
          "text": [
            "        packages deg.in deg.out closeness reversed.closeness\n",
            "8356       mocha   3588      92 0.2143849          0.5494599\n",
            "9406      eslint   2845      80 0.2060900          0.5334960\n",
            "1126    prettier   1468       0 0.0000000          0.4423757\n",
            "7024        chai   1262      10 0.1755165          0.4413146\n",
            "11336 typescript   1720      26 0.1859365          0.4368095\n",
            "9952         nyc   1043      45 0.1778239          0.4338750\n",
            "694       rimraf    978       7 0.1590687          0.4304791\n",
            "7350        glob    399      13 0.1697549          0.4202058\n",
            "1715       sinon    529      25 0.1915221          0.4060172\n",
            "4546   coveralls    648      13 0.1790527          0.4027548\n"
          ]
        }
      ]
    },
    {
      "cell_type": "code",
      "source": [
        "# Calculating the Eigen Vector centrality of the nodes\n",
        "nodes$eigen.cent <- eigen_centrality(graph, directed = TRUE)$vector\n",
        "print(head(nodes[order(nodes$eigen.cent, decreasing = TRUE),], 10))"
      ],
      "metadata": {
        "colab": {
          "base_uri": "https://localhost:8080/"
        },
        "id": "ucW-6Z_Ncple",
        "outputId": "1d907580-fd07-4b91-a1d6-3940c1c5cb50"
      },
      "execution_count": null,
      "outputs": [
        {
          "output_type": "stream",
          "name": "stdout",
          "text": [
            "        packages deg.in deg.out closeness reversed.closeness eigen.cent\n",
            "9406      eslint   2845      80 0.2060900          0.5334960  1.0000000\n",
            "8356       mocha   3588      92 0.2143849          0.5494599  0.9999071\n",
            "9952         nyc   1043      45 0.1778239          0.4338750  0.6537881\n",
            "7024        chai   1262      10 0.1755165          0.4413146  0.5464593\n",
            "1126    prettier   1468       0 0.0000000          0.4423757  0.5453705\n",
            "694       rimraf    978       7 0.1590687          0.4304791  0.5375645\n",
            "11336 typescript   1720      26 0.1859365          0.4368095  0.5361054\n",
            "7350        glob    399      13 0.1697549          0.4202058  0.4135320\n",
            "1715       sinon    529      25 0.1915221          0.4060172  0.3998904\n",
            "3852       husky    633       2 0.1598508          0.3865212  0.3560734\n"
          ]
        }
      ]
    },
    {
      "cell_type": "code",
      "source": [
        "# Calculating the betweenness centrality of the nodes\n",
        "nodes$betweenness <- betweenness(graph, directed = TRUE)\n",
        "print(head(nodes[order(nodes$betweenness, decreasing = TRUE),], 10))"
      ],
      "metadata": {
        "colab": {
          "base_uri": "https://localhost:8080/"
        },
        "id": "Sb5xDW3594UR",
        "outputId": "974628ad-a296-48c2-be5b-44ab5618bfb4"
      },
      "execution_count": null,
      "outputs": [
        {
          "output_type": "stream",
          "name": "stdout",
          "text": [
            "                  packages deg.in deg.out closeness reversed.closeness\n",
            "8356                 mocha   3588      92 0.2143849          0.5494599\n",
            "9406                eslint   2845      80 0.2060900          0.5334960\n",
            "5963                  tape   1313      37 0.1831587          0.3928079\n",
            "2300               webpack    374      79 0.2042906          0.3814716\n",
            "4726  karma-sauce-launcher     33       9 0.1791799          0.3305098\n",
            "680                 rollup    555      53 0.2005376          0.3781271\n",
            "11334         global-agent      1      24 0.1992453          0.2363456\n",
            "11686             anyproxy      1      78 0.2214610          0.1849278\n",
            "11398                memfs     41      28 0.1959229          0.3305932\n",
            "7061                  antd     13     137 0.2293254          0.1566391\n",
            "        eigen.cent betweenness\n",
            "8356  9.999071e-01    43802652\n",
            "9406  1.000000e+00    23163026\n",
            "5963  2.025121e-01    10333324\n",
            "2300  2.123077e-01     9140590\n",
            "4726  8.378832e-02     9063381\n",
            "680   2.258183e-01     8278072\n",
            "11334 5.169590e-03     7560863\n",
            "11686 3.189545e-04     7366999\n",
            "11398 1.134640e-01     6473824\n",
            "7061  2.060733e-05     6326511\n"
          ]
        }
      ]
    }
  ]
}